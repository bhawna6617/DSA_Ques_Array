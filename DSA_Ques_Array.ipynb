{
 "cells": [
  {
   "cell_type": "code",
   "execution_count": 1,
   "id": "49a503e9",
   "metadata": {},
   "outputs": [
    {
     "name": "stdout",
     "output_type": "stream",
     "text": [
      "even number in given array 3\n",
      "odd number in given arr 2\n"
     ]
    }
   ],
   "source": [
    "arr = [2,3,4,5,6]\n",
    "e=0\n",
    "o=0\n",
    "for i in arr:\n",
    "    if(i%2==0):\n",
    "        e+=1\n",
    "    else:\n",
    "        o+=1\n",
    "print(\"even number in given array\",e)\n",
    "print(\"odd number in given arr\",o)"
   ]
  },
  {
   "cell_type": "code",
   "execution_count": 2,
   "id": "0a5030e9",
   "metadata": {},
   "outputs": [
    {
     "name": "stdout",
     "output_type": "stream",
     "text": [
      "even number in given array 5\n",
      "odd number in given arr 0\n"
     ]
    }
   ],
   "source": [
    "arr = [22,32,42,52,62]\n",
    "e=0\n",
    "o=0\n",
    "for i in arr:\n",
    "    if(i%2==0):\n",
    "        e+=1\n",
    "    else:\n",
    "        o+=1\n",
    "print(\"even number in given array\",e)\n",
    "print(\"odd number in given arr\",o)"
   ]
  },
  {
   "cell_type": "markdown",
   "id": "ee90618b",
   "metadata": {},
   "source": [
    "# Average number in arry"
   ]
  },
  {
   "cell_type": "code",
   "execution_count": 3,
   "id": "3026d6a0",
   "metadata": {},
   "outputs": [
    {
     "name": "stdout",
     "output_type": "stream",
     "text": [
      "3.0\n"
     ]
    }
   ],
   "source": [
    "a = [1,2,3,4,5]\n",
    "s = sum(a)/5\n",
    "print(s)"
   ]
  },
  {
   "cell_type": "code",
   "execution_count": 4,
   "id": "bcc91824",
   "metadata": {},
   "outputs": [
    {
     "name": "stdout",
     "output_type": "stream",
     "text": [
      "4.833333333333333\n"
     ]
    }
   ],
   "source": [
    "a = [5,3,6,7,5,3]\n",
    "s = sum(a)/6\n",
    "print(s)"
   ]
  },
  {
   "cell_type": "markdown",
   "id": "038c3bd3",
   "metadata": {},
   "source": [
    "# print the given digit in words"
   ]
  },
  {
   "cell_type": "code",
   "execution_count": 5,
   "id": "c3015feb",
   "metadata": {},
   "outputs": [
    {
     "name": "stdout",
     "output_type": "stream",
     "text": [
      "oneTwoThreefour"
     ]
    }
   ],
   "source": [
    "x=\"1234\"\n",
    "s = [\"zero\",'one','Two','Three','four','five','six','seven','eight','nine']\n",
    "for i in range(len(x)):\n",
    "    for j in range(len(s)):\n",
    "        if(j==int(x[i])):\n",
    "            print(s[j],end=\"\")"
   ]
  },
  {
   "cell_type": "markdown",
   "id": "026dd238",
   "metadata": {},
   "source": [
    "# check if a larger number is divisible by 6 or not"
   ]
  },
  {
   "cell_type": "code",
   "execution_count": null,
   "id": "496c65c8",
   "metadata": {},
   "outputs": [],
   "source": [
    "a = int(input(\"enter number:-\"))\n",
    "if(a%6==0):\n",
    "    print(\"yes\")\n",
    "else:\n",
    "    print(\"no\")"
   ]
  },
  {
   "cell_type": "markdown",
   "id": "23b01479",
   "metadata": {},
   "source": [
    "# palindrome\n"
   ]
  },
  {
   "cell_type": "code",
   "execution_count": 28,
   "id": "ea56e266",
   "metadata": {},
   "outputs": [
    {
     "name": "stdout",
     "output_type": "stream",
     "text": [
      "enter number:-2002\n",
      "its palindrome\n"
     ]
    }
   ],
   "source": [
    "i=int(input(\"enter number:-\"))\n",
    "org = i\n",
    "r = 0\n",
    "while(i>0):\n",
    "    r=(r*10)+i%10\n",
    "    i=i//10\n",
    "if(org==r):\n",
    "    print(\"its palindrome\")\n",
    "else:\n",
    "    print(\"not\")"
   ]
  },
  {
   "cell_type": "markdown",
   "id": "1cf0ef01",
   "metadata": {},
   "source": [
    "# count vowels number"
   ]
  },
  {
   "cell_type": "code",
   "execution_count": 35,
   "id": "250bbcfa",
   "metadata": {},
   "outputs": [
    {
     "name": "stdout",
     "output_type": "stream",
     "text": [
      "enter number:-abcd\n"
     ]
    },
    {
     "ename": "ValueError",
     "evalue": "invalid literal for int() with base 10: 'abcd'",
     "output_type": "error",
     "traceback": [
      "\u001b[1;31m---------------------------------------------------------------------------\u001b[0m",
      "\u001b[1;31mValueError\u001b[0m                                Traceback (most recent call last)",
      "Cell \u001b[1;32mIn[35], line 1\u001b[0m\n\u001b[1;32m----> 1\u001b[0m x\u001b[38;5;241m=\u001b[39m\u001b[38;5;28;43mint\u001b[39;49m\u001b[43m(\u001b[49m\u001b[38;5;28;43minput\u001b[39;49m\u001b[43m(\u001b[49m\u001b[38;5;124;43m\"\u001b[39;49m\u001b[38;5;124;43menter number:-\u001b[39;49m\u001b[38;5;124;43m\"\u001b[39;49m\u001b[43m)\u001b[49m\u001b[43m)\u001b[49m\n\u001b[0;32m      2\u001b[0m s \u001b[38;5;241m=\u001b[39m [\u001b[38;5;124m\"\u001b[39m\u001b[38;5;124ma\u001b[39m\u001b[38;5;124m\"\u001b[39m,\u001b[38;5;124m\"\u001b[39m\u001b[38;5;124me\u001b[39m\u001b[38;5;124m\"\u001b[39m,\u001b[38;5;124m\"\u001b[39m\u001b[38;5;124mi\u001b[39m\u001b[38;5;124m\"\u001b[39m,\u001b[38;5;124m\"\u001b[39m\u001b[38;5;124mo\u001b[39m\u001b[38;5;124m\"\u001b[39m,\u001b[38;5;124m\"\u001b[39m\u001b[38;5;124mu\u001b[39m\u001b[38;5;124m\"\u001b[39m]\n\u001b[0;32m      3\u001b[0m \u001b[38;5;28;01mfor\u001b[39;00m i \u001b[38;5;129;01min\u001b[39;00m \u001b[38;5;28mrange\u001b[39m(\u001b[38;5;28mlen\u001b[39m(x)):\n",
      "\u001b[1;31mValueError\u001b[0m: invalid literal for int() with base 10: 'abcd'"
     ]
    }
   ],
   "source": [
    "x=int(input(\"enter number:-\"))\n",
    "s = [\"a\",\"e\",\"i\",\"o\",\"u\"]\n",
    "for i in range(len(x)):\n",
    "    for j in range(len(s)):\n",
    "        if(x[i]==s[j]):\n",
    "            \n",
    "            print(j)\n"
   ]
  },
  {
   "cell_type": "code",
   "execution_count": 2,
   "id": "f5cfed1e",
   "metadata": {},
   "outputs": [
    {
     "name": "stdout",
     "output_type": "stream",
     "text": [
      "3\n"
     ]
    }
   ],
   "source": [
    "def count_subsequences_limited(s, t):\n",
    "\n",
    "  m, n = len(t), len(s)\n",
    "  dp = [[0] * (n + 1) for _ in range(m + 1)]\n",
    "\n",
    "  for i in range(m + 1):\n",
    "    dp[i][0] = 1 \n",
    "\n",
    "  for i in range(1, m + 1):\n",
    "    for j in range(1, n + 1):\n",
    "      if t[i - 1] == s[j - 1]:\n",
    "        dp[i][j] = dp[i - 1][j - 1] + dp[i][j - 1]  \n",
    "      else:\n",
    "        dp[i][j] = dp[i][j - 1] \n",
    "\n",
    " \n",
    "  return min(dp[m][n], 3)\n",
    "\n",
    "s = \"banana\"\n",
    "t = \"ban\"\n",
    "count = count_subsequences_limited(s, t)\n",
    "print(count)  "
   ]
  },
  {
   "cell_type": "markdown",
   "id": "06139be5",
   "metadata": {},
   "source": [
    "# reverse str"
   ]
  },
  {
   "cell_type": "code",
   "execution_count": 12,
   "id": "02df63ff",
   "metadata": {},
   "outputs": [
    {
     "name": "stdout",
     "output_type": "stream",
     "text": [
      "[3, 2, 1]\n"
     ]
    }
   ],
   "source": [
    "a=[1,2,3]\n",
    "x=a[::-1]\n",
    "print(x)\n",
    "\n",
    "    "
   ]
  },
  {
   "cell_type": "markdown",
   "id": "398ef6cd",
   "metadata": {},
   "source": [
    "# find max and min element in list"
   ]
  },
  {
   "cell_type": "code",
   "execution_count": 8,
   "id": "0fb6d840",
   "metadata": {},
   "outputs": [
    {
     "name": "stdout",
     "output_type": "stream",
     "text": [
      "1\n",
      "9\n"
     ]
    }
   ],
   "source": [
    "a=[3,5,4,1,9]\n",
    "m=a[0]\n",
    "for i in range(len(a)):\n",
    "    if(a[i]<m):\n",
    "        m=a[i]\n",
    "        print(a[i])\n",
    "max=a[0]\n",
    "for j in range(i,len(a)):\n",
    "    if(a[j]>max):\n",
    "        max=a[j]\n",
    "        print(a[j])\n",
    "        \n",
    "   "
   ]
  },
  {
   "cell_type": "markdown",
   "id": "e0a60bc1",
   "metadata": {},
   "source": [
    "# 3rd smallest elemet"
   ]
  },
  {
   "cell_type": "code",
   "execution_count": 16,
   "id": "f2b0aca1",
   "metadata": {},
   "outputs": [
    {
     "name": "stdout",
     "output_type": "stream",
     "text": [
      "7\n"
     ]
    }
   ],
   "source": [
    "a=[7,10,4,3,20,15] #[3,4,7,10,15,20]\n",
    "a.sort()\n",
    "k=2\n",
    "for i in range(len(a)):\n",
    "    if(i==k):\n",
    "        print(a[i])\n",
    "        \n",
    "    "
   ]
  },
  {
   "cell_type": "markdown",
   "id": "1e55ae58",
   "metadata": {},
   "source": [
    "# sort arry without using sorted function"
   ]
  },
  {
   "cell_type": "code",
   "execution_count": 17,
   "id": "15a0535c",
   "metadata": {},
   "outputs": [
    {
     "name": "stdout",
     "output_type": "stream",
     "text": [
      "[0, 0, 1, 2, 2]\n"
     ]
    }
   ],
   "source": [
    "a=[0,2,1,2,0]\n",
    "b=[]\n",
    "c=[]\n",
    "d=[]\n",
    "for i in a:\n",
    "    if i==0:\n",
    "        b.append(i)\n",
    "    elif i==1:\n",
    "        c.append(i)\n",
    "    else:\n",
    "        d.append(i)\n",
    "print(b+c+d)"
   ]
  },
  {
   "cell_type": "markdown",
   "id": "dce0f700",
   "metadata": {},
   "source": [
    "# union and intersection"
   ]
  },
  {
   "cell_type": "code",
   "execution_count": 21,
   "id": "730639b3",
   "metadata": {},
   "outputs": [
    {
     "name": "stdout",
     "output_type": "stream",
     "text": [
      "{1, 2, 3, 4, 5}\n",
      "{1, 2, 3}\n"
     ]
    }
   ],
   "source": [
    "a=[1,2,3,4,5]\n",
    "b=[1,2,3]\n",
    "s=set(a)\n",
    "x=set(b)\n",
    "print(s.union(b))\n",
    "print(s.intersection(b))"
   ]
  },
  {
   "cell_type": "markdown",
   "id": "20743895",
   "metadata": {},
   "source": [
    "# pop and insert"
   ]
  },
  {
   "cell_type": "code",
   "execution_count": 28,
   "id": "f100c05f",
   "metadata": {},
   "outputs": [
    {
     "name": "stdout",
     "output_type": "stream",
     "text": [
      "[5, 1, 2, 3, 4]\n"
     ]
    }
   ],
   "source": [
    "a=[1,2,3,4,5]\n",
    "a.pop()\n",
    "a.insert(0,5)\n",
    "print(a)"
   ]
  },
  {
   "cell_type": "markdown",
   "id": "2421376e",
   "metadata": {},
   "source": [
    "# sub arr"
   ]
  },
  {
   "cell_type": "code",
   "execution_count": 29,
   "id": "837b39af",
   "metadata": {},
   "outputs": [
    {
     "name": "stdout",
     "output_type": "stream",
     "text": [
      "9\n"
     ]
    }
   ],
   "source": [
    "a=[1,2,3,-2,5]\n",
    "m = 0\n",
    "c = 0\n",
    "for i in range(len(a)):\n",
    "    c=c+a[i]\n",
    "    if(c>m):\n",
    "        m=c\n",
    "    if(c<0):\n",
    "        c=0\n",
    "print(m)"
   ]
  },
  {
   "cell_type": "markdown",
   "id": "67502143",
   "metadata": {},
   "source": [
    "# min the height"
   ]
  },
  {
   "cell_type": "code",
   "execution_count": 38,
   "id": "bc994faf",
   "metadata": {},
   "outputs": [
    {
     "name": "stdout",
     "output_type": "stream",
     "text": [
      "5\n"
     ]
    }
   ],
   "source": [
    "a=[1,5,8,10]\n",
    "k=2\n",
    "for i in range(len(a)):\n",
    "    if(a[i]<=k):\n",
    "        c=a[i]+k\n",
    "        \n",
    "    else:\n",
    "        d=a[i]-k\n",
    "        \n",
    "print(d-c)\n",
    "        \n",
    "      "
   ]
  },
  {
   "cell_type": "markdown",
   "id": "9d48b54f",
   "metadata": {},
   "source": [
    "# merge interval\n"
   ]
  },
  {
   "cell_type": "markdown",
   "id": "8a7eca4b",
   "metadata": {},
   "source": [
    "a=[[1,3],[2,6],[8,10],[15,18]]\n",
    "a.sort()\n",
    "m=[] #merged\n",
    "for i in a:\n",
    "    if not m or m[-1][1] < i[0]:\n",
    "        m.append(i)\n",
    "    else:\n",
    "        m[-1][1]=max(m[-1][1],i[1])\n",
    "print(m)"
   ]
  },
  {
   "cell_type": "markdown",
   "id": "762ef823",
   "metadata": {},
   "source": [
    "# permutation"
   ]
  },
  {
   "cell_type": "code",
   "execution_count": 9,
   "id": "11d49c6b",
   "metadata": {},
   "outputs": [
    {
     "name": "stdout",
     "output_type": "stream",
     "text": [
      "[(1, 2, 3), (1, 3, 2), (2, 1, 3), (2, 3, 1), (3, 1, 2), (3, 2, 1)]\n"
     ]
    }
   ],
   "source": [
    "from itertools import permutations\n",
    "\n",
    "def all_permutations(arr):\n",
    "\n",
    "\n",
    "  return list(permutations(arr))\n",
    "\n",
    "arr = [1, 2, 3]\n",
    "permutations = all_permutations(arr)\n",
    "\n",
    "print(permutations)\n"
   ]
  },
  {
   "cell_type": "markdown",
   "id": "eec3fcea",
   "metadata": {},
   "source": [
    "# Count Inversion"
   ]
  },
  {
   "cell_type": "code",
   "execution_count": 8,
   "id": "44285a62",
   "metadata": {},
   "outputs": [
    {
     "name": "stdout",
     "output_type": "stream",
     "text": [
      "1\n",
      "2\n",
      "3\n"
     ]
    }
   ],
   "source": [
    "a=[2,4,1,3,5]\n",
    "c=0\n",
    "for i in range(len(a)):\n",
    "    for j in range(i+1,len(a)):\n",
    "           if(a[i]>a[j]):\n",
    "                c+=1\n",
    "                print(c)\n",
    "    \n",
    "     \n",
    "        \n",
    "    \n"
   ]
  },
  {
   "cell_type": "markdown",
   "id": "1df407d2",
   "metadata": {},
   "source": [
    "# Best Time to Buy and Sell Stock"
   ]
  },
  {
   "cell_type": "code",
   "execution_count": 11,
   "id": "0700c803",
   "metadata": {},
   "outputs": [
    {
     "name": "stdout",
     "output_type": "stream",
     "text": [
      "5\n"
     ]
    }
   ],
   "source": [
    "a=[7,1,5,3,6,4]\n",
    "c=0\n",
    "for i in range(len(a)):\n",
    "    for j in range(i+1,len(a)):\n",
    "        if(a[j]-a[i]>c):\n",
    "            c=a[j]-a[i]\n",
    "print(c)"
   ]
  },
  {
   "cell_type": "markdown",
   "id": "ce0aa102",
   "metadata": {},
   "source": [
    "# Count Pairs with given Sum"
   ]
  },
  {
   "cell_type": "code",
   "execution_count": 28,
   "id": "51ac1c6a",
   "metadata": {},
   "outputs": [
    {
     "name": "stdout",
     "output_type": "stream",
     "text": [
      "6\n",
      "6\n"
     ]
    }
   ],
   "source": [
    "a=[1,5,7,1]\n",
    "k=6\n",
    "c=0\n",
    "for i in range(len(a)):\n",
    "    for j in range(i+1,len(a)):\n",
    "        if(a[i]+a[j]==k):\n",
    "            print(k)\n",
    "            \n",
    "           \n",
    "            \n",
    "           "
   ]
  },
  {
   "cell_type": "markdown",
   "id": "aa6bf393",
   "metadata": {},
   "source": [
    "# common element "
   ]
  },
  {
   "cell_type": "code",
   "execution_count": 29,
   "id": "e5629389",
   "metadata": {},
   "outputs": [
    {
     "name": "stdout",
     "output_type": "stream",
     "text": [
      "{80, 20}\n"
     ]
    }
   ],
   "source": [
    "a=[1,5,10,20,40,80]\n",
    "b=[6,7,20,80,100]\n",
    "c=[3,4,15,20,30,70,80,120]\n",
    "d=set(a)\n",
    "e=set(b)\n",
    "f=set(c)\n",
    "x=d.intersection(e,f)\n",
    "print(x)"
   ]
  },
  {
   "cell_type": "markdown",
   "id": "dfeb9417",
   "metadata": {},
   "source": [
    "# Rearrange  arr in alternating +ve and -ve item"
   ]
  },
  {
   "cell_type": "code",
   "execution_count": 33,
   "id": "a36cd77c",
   "metadata": {},
   "outputs": [
    {
     "name": "stdout",
     "output_type": "stream",
     "text": [
      "[-5, -2, -8, 5, 2, 4, 7, 1, 8]\n"
     ]
    }
   ],
   "source": [
    "a=[-5,-2,5,2,4,7,1,8,0,-8]\n",
    "\n",
    "p=[x for x in a if x>0]\n",
    "n=[x for x in a if x<0]\n",
    "a=n+p\n",
    "print(a)"
   ]
  },
  {
   "cell_type": "markdown",
   "id": "e01bac29",
   "metadata": {},
   "source": [
    "# subarray with 0 sum"
   ]
  },
  {
   "cell_type": "code",
   "execution_count": 46,
   "id": "199536d7",
   "metadata": {},
   "outputs": [
    {
     "name": "stdout",
     "output_type": "stream",
     "text": [
      "yes\n"
     ]
    }
   ],
   "source": [
    "a=[4,2,-3,1,6]\n",
    "\n",
    "for i in range(len(a)):\n",
    "    for j in range(i+1,len(a)):\n",
    "        for k in range(i+2,len(a)):\n",
    "                if(a[i]+a[j]+a[k]==0):\n",
    "                    print(\"yes\")\n",
    "              \n",
    "    \n",
    "\n",
    " "
   ]
  },
  {
   "cell_type": "markdown",
   "id": "c7b13ddc",
   "metadata": {},
   "source": [
    "# Factorials of large number"
   ]
  },
  {
   "cell_type": "code",
   "execution_count": 5,
   "id": "8bc27fb8",
   "metadata": {},
   "outputs": [
    {
     "name": "stdout",
     "output_type": "stream",
     "text": [
      "factorial\n"
     ]
    },
    {
     "data": {
      "text/plain": [
       "120"
      ]
     },
     "execution_count": 5,
     "metadata": {},
     "output_type": "execute_result"
    }
   ],
   "source": [
    "def test(n):\n",
    "    return 1 if(n==1 or n==0)else n*test(n-1)\n",
    "x=5\n",
    "print(\"factorial\",)\n",
    "test(x)"
   ]
  },
  {
   "cell_type": "markdown",
   "id": "471f8256",
   "metadata": {},
   "source": [
    "# maxi product subarray"
   ]
  },
  {
   "cell_type": "code",
   "execution_count": 6,
   "id": "ca138787",
   "metadata": {},
   "outputs": [
    {
     "name": "stdout",
     "output_type": "stream",
     "text": [
      "180\n",
      "0\n",
      "-36\n",
      "600\n",
      "0\n",
      "-120\n",
      "0\n",
      "0\n",
      "0\n",
      "-120\n",
      "0\n",
      "24\n",
      "0\n",
      "60\n",
      "0\n",
      "0\n",
      "0\n",
      "-12\n",
      "0\n",
      "-40\n"
     ]
    }
   ],
   "source": [
    "a=[6,-3,-10,0,2]\n",
    "c=0\n",
    "for i in range(len(a)):\n",
    "    for j in range(i+1,len(a)):\n",
    "        for k in range(i+2,len(a)):\n",
    "            c=a[i]*a[j]*a[k]\n",
    "            print(c)\n",
    "             \n",
    "            \n",
    "       \n",
    "    \n",
    "    "
   ]
  },
  {
   "cell_type": "markdown",
   "id": "bd9b76e1",
   "metadata": {},
   "source": [
    "# Longest Consective subsequence"
   ]
  },
  {
   "cell_type": "code",
   "execution_count": 15,
   "id": "dfd4d7fd",
   "metadata": {},
   "outputs": [
    {
     "name": "stdout",
     "output_type": "stream",
     "text": [
      "[1, 2, 3, 4, 5, 6]\n"
     ]
    }
   ],
   "source": [
    "a=[2,6,1,9,4,5,3]\n",
    "c=1\n",
    "x=[]\n",
    "for i in range(len(a)):\n",
    "    for j in range(len(a)):\n",
    "        if(a[j]==c):\n",
    "            x.append(c)\n",
    "            c+=1\n",
    "            break\n",
    "print(x)\n",
    "            \n",
    "            \n"
   ]
  },
  {
   "cell_type": "markdown",
   "id": "d4000f37",
   "metadata": {},
   "source": [
    "# jump "
   ]
  },
  {
   "cell_type": "code",
   "execution_count": 4,
   "id": "65e57b62",
   "metadata": {},
   "outputs": [
    {
     "name": "stdout",
     "output_type": "stream",
     "text": [
      "3\n"
     ]
    }
   ],
   "source": [
    "def row(a,n,k):\n",
    "    b=a[0]\n",
    "    k+=1\n",
    "    if(b>=len(a)):\n",
    "        print(k)\n",
    "        return\n",
    "    row(a[b:],n-b,k)\n",
    "a=[1,3,4,5,6,7,8]\n",
    "n=len(a)-1\n",
    "k=0\n",
    "row(a,n,k)\n",
    "    \n",
    "    "
   ]
  },
  {
   "cell_type": "markdown",
   "id": "57f55780",
   "metadata": {},
   "source": [
    "# Array subset of  another array"
   ]
  },
  {
   "cell_type": "code",
   "execution_count": 5,
   "id": "201dce55",
   "metadata": {},
   "outputs": [
    {
     "name": "stdout",
     "output_type": "stream",
     "text": [
      "no\n"
     ]
    }
   ],
   "source": [
    "a=[1,2,3,4,4,5,6,]\n",
    "b=[7,9,80]\n",
    "c=set(a)\n",
    "e=set(b)\n",
    "if(c.intersection(e)):\n",
    "    print(\"yes\")\n",
    "else:\n",
    "    print(\"no\")\n"
   ]
  },
  {
   "cell_type": "markdown",
   "id": "5ae4fb1b",
   "metadata": {},
   "source": [
    "# Triplet Sum in Array"
   ]
  },
  {
   "cell_type": "code",
   "execution_count": 13,
   "id": "976d4405",
   "metadata": {},
   "outputs": [
    {
     "name": "stdout",
     "output_type": "stream",
     "text": [
      "1\n"
     ]
    }
   ],
   "source": [
    "a = [1,2,4,3,6]\n",
    "b=10\n",
    "c=0\n",
    "for i in range(len(a)):\n",
    "    for j in range(i+1,len(a)):\n",
    "        if(a[i]+a[j] ==b):\n",
    "                c+=1\n",
    "       \n",
    "            \n",
    "print(c)\n",
    "\n",
    "            \n",
    "        "
   ]
  },
  {
   "cell_type": "markdown",
   "id": "7dbb40b2",
   "metadata": {},
   "source": [
    "# Median of two Sorted arrays of Different sizes"
   ]
  },
  {
   "cell_type": "code",
   "execution_count": 24,
   "id": "9fa4c603",
   "metadata": {},
   "outputs": [
    {
     "name": "stdout",
     "output_type": "stream",
     "text": [
      "[2, 3, 5, 8, 10, 12, 14, 16, 18, 20]\n",
      "11.0\n"
     ]
    }
   ],
   "source": [
    "        \n",
    "a=[2,3,5,8]\n",
    "b=[10,12,14,16,18,20]\n",
    "c=a+b\n",
    "c.sort()\n",
    "x=len(c)\n",
    "if x%2 ==0:\n",
    "    m=(c[x//2-1]+c[x//2])/2\n",
    "else:\n",
    "    m=c[x//2]\n",
    "print(c)\n",
    "print(m)\n",
    "        \n",
    "        \n",
    "        "
   ]
  },
  {
   "cell_type": "markdown",
   "id": "36846376",
   "metadata": {},
   "source": [
    "# find the median"
   ]
  },
  {
   "cell_type": "code",
   "execution_count": 26,
   "id": "740c5d30",
   "metadata": {},
   "outputs": [
    {
     "name": "stdout",
     "output_type": "stream",
     "text": [
      "[67, 78, 89, 90, 100]\n",
      "89\n"
     ]
    }
   ],
   "source": [
    "a=[90,100,78,89,67]\n",
    "a.sort()\n",
    "x=len(a)\n",
    "if x%2==0:\n",
    "    m=(a[x//2-1]+a[x//2])/2\n",
    "else:\n",
    "    m=(a[x//2])\n",
    "print(a)\n",
    "print(m)"
   ]
  },
  {
   "cell_type": "markdown",
   "id": "10fd4aee",
   "metadata": {},
   "source": [
    "# palindromic Array"
   ]
  },
  {
   "cell_type": "code",
   "execution_count": 1,
   "id": "b07fc23d",
   "metadata": {},
   "outputs": [
    {
     "name": "stdout",
     "output_type": "stream",
     "text": [
      "enter number:-111\n",
      "palindrome number\n"
     ]
    }
   ],
   "source": [
    "a=int(input(\"enter number:-\"))\n",
    "r=0\n",
    "x=a\n",
    "while(a>0):\n",
    "    r=(r*10)+a%10\n",
    "    a=a//10\n",
    "if(x==r):\n",
    "    print(\"palindrome number\")\n",
    "else:\n",
    "    print(\"not palindrom number\")"
   ]
  },
  {
   "cell_type": "markdown",
   "id": "8b06f8a8",
   "metadata": {},
   "source": [
    "# Trapping Rain Water"
   ]
  },
  {
   "cell_type": "code",
   "execution_count": 2,
   "id": "6a0bb58c",
   "metadata": {},
   "outputs": [
    {
     "name": "stdout",
     "output_type": "stream",
     "text": [
      "10\n"
     ]
    }
   ],
   "source": [
    "a=[3,0,0,2,0,4]\n",
    "l=0\n",
    "r=len(a)-1\n",
    "lm=0\n",
    "rm=0\n",
    "b=0\n",
    "while l<r:\n",
    "    if(a[l]<a[r]):\n",
    "        if (lm<a[l]):\n",
    "            lm=a[l]\n",
    "        else:\n",
    "            b+=lm-a[l]\n",
    "        l+=1\n",
    "    else:\n",
    "        if(rm<a[r]):\n",
    "            rm=a[r]\n",
    "        else:\n",
    "            b+=rm-a[r]\n",
    "        r-=1\n",
    "print(b)"
   ]
  },
  {
   "cell_type": "markdown",
   "id": "d5bc0680",
   "metadata": {},
   "source": [
    "\n",
    "# Chocolate Distribution Problem"
   ]
  },
  {
   "cell_type": "code",
   "execution_count": 16,
   "id": "48238c33",
   "metadata": {},
   "outputs": [
    {
     "name": "stdout",
     "output_type": "stream",
     "text": [
      "6\n"
     ]
    }
   ],
   "source": [
    "a = [3, 4, 1, 9, 56, 7, 9, 12]\n",
    "n = 8\n",
    "m = 5\n",
    "\n",
    "a.sort()\n",
    "l=0\n",
    "for i in range(len(a)):\n",
    "    if(a[i]<=m):\n",
    "        l+=1\n",
    "    else:\n",
    "        break\n",
    "x=n-l+1\n",
    "print(x)"
   ]
  },
  {
   "cell_type": "markdown",
   "id": "6b2de447",
   "metadata": {},
   "source": [
    "# smallest Subarray with sum greater than x"
   ]
  },
  {
   "cell_type": "code",
   "execution_count": 20,
   "id": "e8c8dd98",
   "metadata": {},
   "outputs": [
    {
     "name": "stdout",
     "output_type": "stream",
     "text": [
      "Smallest subarray length with sum greater than 51 is 4\n"
     ]
    }
   ],
   "source": [
    "a = [1, 4, 45, 6, 0, 19]\n",
    "x = 51\n",
    "\n",
    "min_length = float('inf')\n",
    "current_sum = 0\n",
    "start = 0\n",
    "\n",
    "for end in range(len(a)):\n",
    "    current_sum = 0\n",
    "    for i in range(start, end + 1):\n",
    "        current_sum += a[i]\n",
    "        if current_sum > x:\n",
    "            min_length = min(min_length, end - start + 1)\n",
    "            break\n",
    "\n",
    "print(\"Smallest subarray length with sum greater than\", x, \"is\", min_length if min_length != float('inf') else \"not found\")\n",
    "\n",
    "    "
   ]
  },
  {
   "cell_type": "markdown",
   "id": "4bc0b232",
   "metadata": {},
   "source": [
    "# duplicate number remove "
   ]
  },
  {
   "cell_type": "code",
   "execution_count": 1,
   "id": "4acff7d9",
   "metadata": {},
   "outputs": [
    {
     "name": "stdout",
     "output_type": "stream",
     "text": [
      "4\n"
     ]
    }
   ],
   "source": [
    "x=\"geekfromgeek\"\n",
    "c=0\n",
    "for i in x:\n",
    "    if i==\"e\":\n",
    "        c=c+1\n",
    "print(str(c))"
   ]
  },
  {
   "cell_type": "markdown",
   "id": "02a4f848",
   "metadata": {},
   "source": [
    "# Check weather number is digit or not"
   ]
  },
  {
   "cell_type": "code",
   "execution_count": 2,
   "id": "a4105272",
   "metadata": {},
   "outputs": [
    {
     "name": "stdout",
     "output_type": "stream",
     "text": [
      "enter number:-56\n",
      "True\n"
     ]
    }
   ],
   "source": [
    "x=input(\"enter number:-\")\n",
    "c=x.isdigit()\n",
    "print(c)"
   ]
  },
  {
   "cell_type": "code",
   "execution_count": null,
   "id": "9f468c9e",
   "metadata": {},
   "outputs": [],
   "source": []
  }
 ],
 "metadata": {
  "kernelspec": {
   "display_name": "Python 3 (ipykernel)",
   "language": "python",
   "name": "python3"
  },
  "language_info": {
   "codemirror_mode": {
    "name": "ipython",
    "version": 3
   },
   "file_extension": ".py",
   "mimetype": "text/x-python",
   "name": "python",
   "nbconvert_exporter": "python",
   "pygments_lexer": "ipython3",
   "version": "3.11.5"
  }
 },
 "nbformat": 4,
 "nbformat_minor": 5
}
